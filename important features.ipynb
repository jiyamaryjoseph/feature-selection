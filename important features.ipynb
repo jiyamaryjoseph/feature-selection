{
 "cells": [
  {
   "cell_type": "code",
   "execution_count": 2,
   "id": "23f7f0ef",
   "metadata": {},
   "outputs": [],
   "source": [
    "import numpy as np\n",
    "import matplotlib.pyplot as plt\n",
    "\n",
    "from sklearn import datasets\n",
    "from sklearn import feature_selection\n",
    "from sklearn.pipeline import Pipeline\n",
    "from sklearn import linear_model\n",
    "from sklearn import svm"
   ]
  },
  {
   "cell_type": "code",
   "execution_count": 3,
   "id": "1fdfea62",
   "metadata": {},
   "outputs": [
    {
     "name": "stdout",
     "output_type": "stream",
     "text": [
      "Python 3.9.7\n"
     ]
    }
   ],
   "source": [
    "import sys\n",
    "import sklearn\n",
    "!python --version"
   ]
  },
  {
   "cell_type": "code",
   "execution_count": 7,
   "id": "9f64483e",
   "metadata": {},
   "outputs": [
    {
     "data": {
      "text/plain": [
       "'1.20.3'"
      ]
     },
     "execution_count": 7,
     "metadata": {},
     "output_type": "execute_result"
    }
   ],
   "source": [
    "np.__version__"
   ]
  },
  {
   "cell_type": "code",
   "execution_count": 8,
   "id": "1b05d390",
   "metadata": {},
   "outputs": [
    {
     "data": {
      "text/plain": [
       "'0.24.2'"
      ]
     },
     "execution_count": 8,
     "metadata": {},
     "output_type": "execute_result"
    }
   ],
   "source": [
    "sklearn.__version__"
   ]
  },
  {
   "cell_type": "markdown",
   "id": "598a0d4b",
   "metadata": {},
   "source": [
    "# DATA"
   ]
  },
  {
   "cell_type": "code",
   "execution_count": 9,
   "id": "5e3ad9e3",
   "metadata": {},
   "outputs": [],
   "source": [
    "X=np.array([\n",
    "    [2,3,4],\n",
    "    [2,5,6],\n",
    "    [2,8,9],\n",
    "    [2,9,5],\n",
    "    [1,1,1]\n",
    "])"
   ]
  },
  {
   "cell_type": "code",
   "execution_count": 11,
   "id": "3087c93d",
   "metadata": {},
   "outputs": [
    {
     "data": {
      "text/html": [
       "<div>\n",
       "<style scoped>\n",
       "    .dataframe tbody tr th:only-of-type {\n",
       "        vertical-align: middle;\n",
       "    }\n",
       "\n",
       "    .dataframe tbody tr th {\n",
       "        vertical-align: top;\n",
       "    }\n",
       "\n",
       "    .dataframe thead th {\n",
       "        text-align: right;\n",
       "    }\n",
       "</style>\n",
       "<table border=\"1\" class=\"dataframe\">\n",
       "  <thead>\n",
       "    <tr style=\"text-align: right;\">\n",
       "      <th></th>\n",
       "      <th>0</th>\n",
       "      <th>1</th>\n",
       "      <th>2</th>\n",
       "    </tr>\n",
       "  </thead>\n",
       "  <tbody>\n",
       "    <tr>\n",
       "      <th>0</th>\n",
       "      <td>2</td>\n",
       "      <td>3</td>\n",
       "      <td>4</td>\n",
       "    </tr>\n",
       "    <tr>\n",
       "      <th>1</th>\n",
       "      <td>2</td>\n",
       "      <td>5</td>\n",
       "      <td>6</td>\n",
       "    </tr>\n",
       "    <tr>\n",
       "      <th>2</th>\n",
       "      <td>2</td>\n",
       "      <td>8</td>\n",
       "      <td>9</td>\n",
       "    </tr>\n",
       "    <tr>\n",
       "      <th>3</th>\n",
       "      <td>2</td>\n",
       "      <td>9</td>\n",
       "      <td>5</td>\n",
       "    </tr>\n",
       "    <tr>\n",
       "      <th>4</th>\n",
       "      <td>1</td>\n",
       "      <td>1</td>\n",
       "      <td>1</td>\n",
       "    </tr>\n",
       "  </tbody>\n",
       "</table>\n",
       "</div>"
      ],
      "text/plain": [
       "   0  1  2\n",
       "0  2  3  4\n",
       "1  2  5  6\n",
       "2  2  8  9\n",
       "3  2  9  5\n",
       "4  1  1  1"
      ]
     },
     "execution_count": 11,
     "metadata": {},
     "output_type": "execute_result"
    }
   ],
   "source": [
    "import pandas as pd\n",
    "pd.DataFrame(X)\n"
   ]
  },
  {
   "cell_type": "code",
   "execution_count": 12,
   "id": "db7d6e78",
   "metadata": {},
   "outputs": [
    {
     "data": {
      "text/plain": [
       "array([1, 0, 1, 0, 1])"
      ]
     },
     "execution_count": 12,
     "metadata": {},
     "output_type": "execute_result"
    }
   ],
   "source": [
    "y=np.array([1,0,1,0,1])\n",
    "y"
   ]
  },
  {
   "cell_type": "code",
   "execution_count": 16,
   "id": "1e089c30",
   "metadata": {},
   "outputs": [
    {
     "data": {
      "text/plain": [
       "array([0.16, 8.96, 6.8 ])"
      ]
     },
     "execution_count": 16,
     "metadata": {},
     "output_type": "execute_result"
    }
   ],
   "source": [
    "np.var(X,axis=0)"
   ]
  },
  {
   "cell_type": "code",
   "execution_count": 20,
   "id": "a57e6c4b",
   "metadata": {},
   "outputs": [
    {
     "data": {
      "text/plain": [
       "array([[3, 4],\n",
       "       [5, 6],\n",
       "       [8, 9],\n",
       "       [9, 5],\n",
       "       [1, 1]])"
      ]
     },
     "execution_count": 20,
     "metadata": {},
     "output_type": "execute_result"
    }
   ],
   "source": [
    "# remove feautre with low variance\n",
    "sel=feature_selection.VarianceThreshold(.17)\n",
    "sel.fit(X)\n",
    "sel.transform(X)"
   ]
  },
  {
   "cell_type": "markdown",
   "id": "1a5a6e60",
   "metadata": {},
   "source": [
    "## univariate feautre selection\n"
   ]
  },
  {
   "cell_type": "markdown",
   "id": "8253c8a9",
   "metadata": {},
   "source": [
    "### selectKbest:classification\n"
   ]
  },
  {
   "cell_type": "code",
   "execution_count": 22,
   "id": "6957e4e7",
   "metadata": {},
   "outputs": [
    {
     "data": {
      "text/plain": [
       "SelectKBest(k=2)"
      ]
     },
     "execution_count": 22,
     "metadata": {},
     "output_type": "execute_result"
    }
   ],
   "source": [
    "f=feature_selection.f_classif\n",
    "sel=feature_selection.SelectKBest(score_func=f,k=2)\n",
    "sel.fit(X,y)"
   ]
  },
  {
   "cell_type": "code",
   "execution_count": 23,
   "id": "90fbd4ae",
   "metadata": {},
   "outputs": [
    {
     "data": {
      "text/plain": [
       "array([[2, 3],\n",
       "       [2, 5],\n",
       "       [2, 8],\n",
       "       [2, 9],\n",
       "       [1, 1]])"
      ]
     },
     "execution_count": 23,
     "metadata": {},
     "output_type": "execute_result"
    }
   ],
   "source": [
    "sel.transform(X)"
   ]
  },
  {
   "cell_type": "code",
   "execution_count": 24,
   "id": "b1890d11",
   "metadata": {},
   "outputs": [
    {
     "data": {
      "text/plain": [
       "array([0.5999897 , 0.9529415 , 0.07537712], dtype=float32)"
      ]
     },
     "execution_count": 24,
     "metadata": {},
     "output_type": "execute_result"
    }
   ],
   "source": [
    "sel.scores_"
   ]
  },
  {
   "cell_type": "markdown",
   "id": "57354875",
   "metadata": {},
   "source": [
    "### SelectKbest:regression "
   ]
  },
  {
   "cell_type": "code",
   "execution_count": 27,
   "id": "618ffc3f",
   "metadata": {},
   "outputs": [
    {
     "data": {
      "text/plain": [
       "array([[2, 3],\n",
       "       [2, 5],\n",
       "       [2, 8],\n",
       "       [2, 9],\n",
       "       [1, 1]])"
      ]
     },
     "execution_count": 27,
     "metadata": {},
     "output_type": "execute_result"
    }
   ],
   "source": [
    "f=feature_selection.f_regression\n",
    "sel=feature_selection.SelectKBest(score_func=f,k=2)\n",
    "sel.fit(X,y.astype('float'))\n",
    "sel.transform(X)"
   ]
  },
  {
   "cell_type": "markdown",
   "id": "a7f50798",
   "metadata": {},
   "source": [
    "# DATA"
   ]
  },
  {
   "cell_type": "code",
   "execution_count": 41,
   "id": "b8efd2ed",
   "metadata": {},
   "outputs": [],
   "source": [
    "X,y=datasets.load_iris(return_X_y=True)\n"
   ]
  },
  {
   "cell_type": "code",
   "execution_count": 42,
   "id": "912bb3ba",
   "metadata": {},
   "outputs": [
    {
     "data": {
      "text/plain": [
       "((150, 4), (150,))"
      ]
     },
     "execution_count": 42,
     "metadata": {},
     "output_type": "execute_result"
    }
   ],
   "source": [
    "X.shape,y.shape"
   ]
  },
  {
   "cell_type": "markdown",
   "id": "7a4e2791",
   "metadata": {},
   "source": [
    "### sequential feautre selection :forward"
   ]
  },
  {
   "cell_type": "code",
   "execution_count": 48,
   "id": "ce39fceb",
   "metadata": {},
   "outputs": [
    {
     "data": {
      "text/plain": [
       "(150, 3)"
      ]
     },
     "execution_count": 48,
     "metadata": {},
     "output_type": "execute_result"
    }
   ],
   "source": [
    "clf=linear_model.RidgeClassifier()\n",
    "sel=feature_selection.SequentialFeatureSelector(clf,n_features_to_select=3,direction='forward')\n",
    "sel.fit(X,y)\n",
    "sel.transform(X).shape"
   ]
  },
  {
   "cell_type": "code",
   "execution_count": 50,
   "id": "74806f94",
   "metadata": {},
   "outputs": [
    {
     "data": {
      "text/plain": [
       "{'cv': 5,\n",
       " 'direction': 'forward',\n",
       " 'estimator__alpha': 1.0,\n",
       " 'estimator__class_weight': None,\n",
       " 'estimator__copy_X': True,\n",
       " 'estimator__fit_intercept': True,\n",
       " 'estimator__max_iter': None,\n",
       " 'estimator__normalize': False,\n",
       " 'estimator__random_state': None,\n",
       " 'estimator__solver': 'auto',\n",
       " 'estimator__tol': 0.001,\n",
       " 'estimator': RidgeClassifier(),\n",
       " 'n_features_to_select': 3,\n",
       " 'n_jobs': None,\n",
       " 'scoring': None}"
      ]
     },
     "execution_count": 50,
     "metadata": {},
     "output_type": "execute_result"
    }
   ],
   "source": [
    "sel.get_params()"
   ]
  },
  {
   "cell_type": "code",
   "execution_count": 53,
   "id": "560c7937",
   "metadata": {},
   "outputs": [
    {
     "data": {
      "text/plain": [
       "array([False,  True,  True,  True])"
      ]
     },
     "execution_count": 53,
     "metadata": {},
     "output_type": "execute_result"
    }
   ],
   "source": [
    "sel.get_support()"
   ]
  },
  {
   "cell_type": "markdown",
   "id": "485024cb",
   "metadata": {},
   "source": [
    "### sequential feautre selection :backward"
   ]
  },
  {
   "cell_type": "code",
   "execution_count": 54,
   "id": "bb4de6d9",
   "metadata": {},
   "outputs": [
    {
     "data": {
      "text/plain": [
       "(150, 3)"
      ]
     },
     "execution_count": 54,
     "metadata": {},
     "output_type": "execute_result"
    }
   ],
   "source": [
    "clf=linear_model.RidgeClassifier()\n",
    "sel=feature_selection.SequentialFeatureSelector(clf,n_features_to_select=3,direction='backward')\n",
    "sel.fit(X,y)\n",
    "sel.transform(X).shape"
   ]
  },
  {
   "cell_type": "code",
   "execution_count": 55,
   "id": "aa7f42d1",
   "metadata": {},
   "outputs": [
    {
     "data": {
      "text/plain": [
       "array([False,  True,  True,  True])"
      ]
     },
     "execution_count": 55,
     "metadata": {},
     "output_type": "execute_result"
    }
   ],
   "source": [
    "sel.get_support()"
   ]
  },
  {
   "cell_type": "code",
   "execution_count": 56,
   "id": "b6797aac",
   "metadata": {},
   "outputs": [
    {
     "data": {
      "text/plain": [
       "{'cv': 5,\n",
       " 'direction': 'backward',\n",
       " 'estimator__alpha': 1.0,\n",
       " 'estimator__class_weight': None,\n",
       " 'estimator__copy_X': True,\n",
       " 'estimator__fit_intercept': True,\n",
       " 'estimator__max_iter': None,\n",
       " 'estimator__normalize': False,\n",
       " 'estimator__random_state': None,\n",
       " 'estimator__solver': 'auto',\n",
       " 'estimator__tol': 0.001,\n",
       " 'estimator': RidgeClassifier(),\n",
       " 'n_features_to_select': 3,\n",
       " 'n_jobs': None,\n",
       " 'scoring': None}"
      ]
     },
     "execution_count": 56,
     "metadata": {},
     "output_type": "execute_result"
    }
   ],
   "source": [
    "sel.get_params()"
   ]
  },
  {
   "cell_type": "markdown",
   "id": "099d25d6",
   "metadata": {},
   "source": [
    "### select from model"
   ]
  },
  {
   "cell_type": "code",
   "execution_count": 63,
   "id": "9b879d71",
   "metadata": {},
   "outputs": [
    {
     "name": "stderr",
     "output_type": "stream",
     "text": [
      "D:\\Users\\user\\anaconda3\\lib\\site-packages\\sklearn\\svm\\_base.py:985: ConvergenceWarning: Liblinear failed to converge, increase the number of iterations.\n",
      "  warnings.warn(\"Liblinear failed to converge, increase \"\n"
     ]
    },
    {
     "data": {
      "text/plain": [
       "(150, 3)"
      ]
     },
     "execution_count": 63,
     "metadata": {},
     "output_type": "execute_result"
    }
   ],
   "source": [
    "f=svm.LinearSVC(C=.01,penalty='l1',dual=False)\n",
    "clf=feature_selection.SelectFromModel(f)\n",
    "clf.fit(X,y)\n",
    "clf.transform(X).shape"
   ]
  },
  {
   "cell_type": "code",
   "execution_count": 64,
   "id": "c6a37278",
   "metadata": {},
   "outputs": [],
   "source": [
    "svm.LinearSVC?"
   ]
  },
  {
   "cell_type": "code",
   "execution_count": 65,
   "id": "77e2867a",
   "metadata": {},
   "outputs": [
    {
     "data": {
      "text/plain": [
       "array([[5.1, 3.5, 1.4, 0.2],\n",
       "       [4.9, 3. , 1.4, 0.2],\n",
       "       [4.7, 3.2, 1.3, 0.2]])"
      ]
     },
     "execution_count": 65,
     "metadata": {},
     "output_type": "execute_result"
    }
   ],
   "source": [
    "X[0:3]"
   ]
  },
  {
   "cell_type": "code",
   "execution_count": 66,
   "id": "fdf3bcc4",
   "metadata": {},
   "outputs": [
    {
     "data": {
      "text/plain": [
       "array([[5.1, 3.5, 1.4],\n",
       "       [4.9, 3. , 1.4],\n",
       "       [4.7, 3.2, 1.3]])"
      ]
     },
     "execution_count": 66,
     "metadata": {},
     "output_type": "execute_result"
    }
   ],
   "source": [
    "clf.transform(X)[0:3]"
   ]
  },
  {
   "cell_type": "markdown",
   "id": "6ec77fc0",
   "metadata": {},
   "source": [
    "# Pipeline"
   ]
  },
  {
   "cell_type": "code",
   "execution_count": 79,
   "id": "7caa1af9",
   "metadata": {},
   "outputs": [
    {
     "name": "stderr",
     "output_type": "stream",
     "text": [
      "D:\\Users\\user\\anaconda3\\lib\\site-packages\\sklearn\\svm\\_base.py:985: ConvergenceWarning: Liblinear failed to converge, increase the number of iterations.\n",
      "  warnings.warn(\"Liblinear failed to converge, increase \"\n"
     ]
    },
    {
     "data": {
      "text/plain": [
       "Pipeline(steps=[('feature_selection',\n",
       "                 SelectFromModel(estimator=LinearSVC(C=0.01, dual=False,\n",
       "                                                     penalty='l1'))),\n",
       "                ('classification', RidgeClassifier())])"
      ]
     },
     "execution_count": 79,
     "metadata": {},
     "output_type": "execute_result"
    }
   ],
   "source": [
    "clf=Pipeline([\n",
    "    ('feature_selection',feature_selection.SelectFromModel(svm.LinearSVC(C=.01,penalty='l1',dual=False))),\n",
    "    ('classification',linear_model.RidgeClassifier()) \n",
    "])\n",
    "clf.fit(X,y)\n"
   ]
  },
  {
   "cell_type": "code",
   "execution_count": 80,
   "id": "5bb4a8ab",
   "metadata": {},
   "outputs": [
    {
     "data": {
      "text/plain": [
       "{'memory': None,\n",
       " 'steps': [('feature_selection',\n",
       "   SelectFromModel(estimator=LinearSVC(C=0.01, dual=False, penalty='l1'))),\n",
       "  ('classification', RidgeClassifier())],\n",
       " 'verbose': False,\n",
       " 'feature_selection': SelectFromModel(estimator=LinearSVC(C=0.01, dual=False, penalty='l1')),\n",
       " 'classification': RidgeClassifier(),\n",
       " 'feature_selection__estimator__C': 0.01,\n",
       " 'feature_selection__estimator__class_weight': None,\n",
       " 'feature_selection__estimator__dual': False,\n",
       " 'feature_selection__estimator__fit_intercept': True,\n",
       " 'feature_selection__estimator__intercept_scaling': 1,\n",
       " 'feature_selection__estimator__loss': 'squared_hinge',\n",
       " 'feature_selection__estimator__max_iter': 1000,\n",
       " 'feature_selection__estimator__multi_class': 'ovr',\n",
       " 'feature_selection__estimator__penalty': 'l1',\n",
       " 'feature_selection__estimator__random_state': None,\n",
       " 'feature_selection__estimator__tol': 0.0001,\n",
       " 'feature_selection__estimator__verbose': 0,\n",
       " 'feature_selection__estimator': LinearSVC(C=0.01, dual=False, penalty='l1'),\n",
       " 'feature_selection__importance_getter': 'auto',\n",
       " 'feature_selection__max_features': None,\n",
       " 'feature_selection__norm_order': 1,\n",
       " 'feature_selection__prefit': False,\n",
       " 'feature_selection__threshold': None,\n",
       " 'classification__alpha': 1.0,\n",
       " 'classification__class_weight': None,\n",
       " 'classification__copy_X': True,\n",
       " 'classification__fit_intercept': True,\n",
       " 'classification__max_iter': None,\n",
       " 'classification__normalize': False,\n",
       " 'classification__random_state': None,\n",
       " 'classification__solver': 'auto',\n",
       " 'classification__tol': 0.001}"
      ]
     },
     "execution_count": 80,
     "metadata": {},
     "output_type": "execute_result"
    }
   ],
   "source": [
    "clf.get_params()"
   ]
  },
  {
   "cell_type": "code",
   "execution_count": 82,
   "id": "2fc7cbf8",
   "metadata": {},
   "outputs": [
    {
     "data": {
      "text/plain": [
       "array([ True,  True,  True, False])"
      ]
     },
     "execution_count": 82,
     "metadata": {},
     "output_type": "execute_result"
    }
   ],
   "source": [
    "clf['feature_selection'].get_support()"
   ]
  },
  {
   "cell_type": "code",
   "execution_count": 84,
   "id": "bd8d989d",
   "metadata": {},
   "outputs": [
    {
     "data": {
      "text/plain": [
       "(150, 3)"
      ]
     },
     "execution_count": 84,
     "metadata": {},
     "output_type": "execute_result"
    }
   ],
   "source": [
    "clf['feature_selection'].transform(X).shape"
   ]
  },
  {
   "cell_type": "markdown",
   "id": "2788e0f0",
   "metadata": {},
   "source": [
    "# Plot"
   ]
  },
  {
   "cell_type": "code",
   "execution_count": 89,
   "id": "daeaabba",
   "metadata": {},
   "outputs": [
    {
     "data": {
      "text/plain": [
       "array([0.08889673, 0.03218068, 0.53534695, 0.34357565])"
      ]
     },
     "execution_count": 89,
     "metadata": {},
     "output_type": "execute_result"
    }
   ],
   "source": [
    "from sklearn import ensemble\n",
    "clf=ensemble.ExtraTreesClassifier(n_estimators=10)\n",
    "clf.fit(X,y)\n",
    "fea_imp=clf.feature_importances_\n",
    "fea_imp"
   ]
  },
  {
   "cell_type": "code",
   "execution_count": 94,
   "id": "2566375a",
   "metadata": {},
   "outputs": [
    {
     "data": {
      "text/plain": [
       "['sepal length (cm)',\n",
       " 'sepal width (cm)',\n",
       " 'petal length (cm)',\n",
       " 'petal width (cm)']"
      ]
     },
     "execution_count": 94,
     "metadata": {},
     "output_type": "execute_result"
    }
   ],
   "source": [
    "data=datasets.load_iris()\n",
    "data.feature_names"
   ]
  },
  {
   "cell_type": "code",
   "execution_count": 98,
   "id": "a9f595bb",
   "metadata": {},
   "outputs": [
    {
     "data": {
      "text/plain": [
       "Text(0, 0.5, 'feature importance')"
      ]
     },
     "execution_count": 98,
     "metadata": {},
     "output_type": "execute_result"
    },
    {
     "data": {
      "image/png": "[encoded data removed]",
      "text/plain": [
       "<Figure size 432x288 with 1 Axes>"
      ]
     },
     "metadata": {
      "needs_background": "light"
     },
     "output_type": "display_data"
    }
   ],
   "source": [
    "plt.bar(data.feature_names,fea_imp)\n",
    "plt.xticks(rotation=45)\n",
    "plt.ylabel('feature importance')"
   ]
  },
  {
   "cell_type": "code",
   "execution_count": null,
   "id": "30aaba3d",
   "metadata": {},
   "outputs": [],
   "source": []
  }
 ],
 "metadata": {
  "kernelspec": {
   "display_name": "Python 3 (ipykernel)",
   "language": "python",
   "name": "python3"
  },
  "language_info": {
   "codemirror_mode": {
    "name": "ipython",
    "version": 3
   },
   "file_extension": ".py",
   "mimetype": "text/x-python",
   "name": "python",
   "nbconvert_exporter": "python",
   "pygments_lexer": "ipython3",
   "version": "3.9.7"
  }
 },
 "nbformat": 4,
 "nbformat_minor": 5
}
